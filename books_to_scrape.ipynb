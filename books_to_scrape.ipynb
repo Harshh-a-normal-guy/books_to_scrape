{
 "cells": [
  {
   "cell_type": "markdown",
   "id": "454376f0",
   "metadata": {},
   "source": [
    "# IMPORTING LIBRARIES\n"
   ]
  },
  {
   "cell_type": "code",
   "execution_count": 2,
   "id": "a09e9e71",
   "metadata": {},
   "outputs": [],
   "source": [
    "from bs4 import BeautifulSoup as bs\n",
    "import pandas as pd\n",
    "import numpy as np\n",
    "import requests\n",
    "import mysql.connector\n",
    "import sqlite3\n",
    "# from sklearn.preprocessing import OrdinalEncoder"
   ]
  },
  {
   "cell_type": "code",
   "execution_count": 3,
   "id": "c6d0370e",
   "metadata": {},
   "outputs": [],
   "source": [
    "lst= []\n",
    "# creating a list which we will use in the scrape function."
   ]
  },
  {
   "cell_type": "code",
   "execution_count": 5,
   "id": "8999ae01",
   "metadata": {},
   "outputs": [],
   "source": [
    "pg = 1\n",
    "url = f'https://books.toscrape.com/catalogue/page-{pg}.html'\n",
    "# the base url which is defined to scrape\n",
    "r =requests.get(url,'lxml')\n",
    "soup = bs(r.text,'lxml')\n",
    "#  here we used beautiful soup to get all the text for the page\n"
   ]
  },
  {
   "cell_type": "code",
   "execution_count": 6,
   "id": "3a482d28",
   "metadata": {},
   "outputs": [
    {
     "data": {
      "text/plain": [
       "<a href=\"../index.html\">Books to Scrape</a>"
      ]
     },
     "execution_count": 6,
     "metadata": {},
     "output_type": "execute_result"
    }
   ],
   "source": [
    "soup.find('a')"
   ]
  },
  {
   "cell_type": "code",
   "execution_count": 7,
   "id": "b01da6b1",
   "metadata": {},
   "outputs": [],
   "source": [
    "# soup.prettify()"
   ]
  },
  {
   "cell_type": "code",
   "execution_count": 77,
   "id": "4afe02ee",
   "metadata": {
    "run_control": {
     "marked": true
    }
   },
   "outputs": [],
   "source": [
    "page= soup.find_all('article',class_= 'product_pod')\n",
    "#  we filter out the extra data which was defined in the soup variable"
   ]
  },
  {
   "cell_type": "code",
   "execution_count": 78,
   "id": "99febc07",
   "metadata": {},
   "outputs": [
    {
     "name": "stdout",
     "output_type": "stream",
     "text": [
      "Three\n",
      "One\n",
      "One\n",
      "Four\n",
      "Five\n",
      "One\n",
      "Four\n",
      "Three\n",
      "Four\n",
      "One\n",
      "Two\n",
      "Four\n",
      "Five\n",
      "Five\n",
      "Five\n",
      "Three\n",
      "One\n",
      "One\n",
      "Two\n",
      "Two\n"
     ]
    }
   ],
   "source": [
    "# checking the ratings for page 1 \n",
    "#  we use for loop to iterate in page in class star rating.\n",
    "for rating in page:\n",
    "    print(rating.find('p',class_= 'star-rating').get('class')[1])"
   ]
  },
  {
   "cell_type": "code",
   "execution_count": 9,
   "id": "3a551bc5",
   "metadata": {},
   "outputs": [
    {
     "name": "stdout",
     "output_type": "stream",
     "text": [
      "In stock\n",
      "In stock\n",
      "In stock\n",
      "In stock\n",
      "In stock\n",
      "In stock\n",
      "In stock\n",
      "In stock\n",
      "In stock\n",
      "In stock\n",
      "In stock\n",
      "In stock\n",
      "In stock\n",
      "In stock\n",
      "In stock\n",
      "In stock\n",
      "In stock\n",
      "In stock\n",
      "In stock\n",
      "In stock\n"
     ]
    }
   ],
   "source": [
    "# for availability in page 1 , we check class instock availibility using for loop  \n",
    "for stock in page:\n",
    "    print(stock.find('p', class_='instock availability').text.strip())\n",
    "\n"
   ]
  },
  {
   "cell_type": "code",
   "execution_count": 10,
   "id": "580cf555",
   "metadata": {},
   "outputs": [
    {
     "name": "stdout",
     "output_type": "stream",
     "text": [
      "£51.77\n",
      "£53.74\n",
      "£50.10\n",
      "£47.82\n",
      "£54.23\n",
      "£22.65\n",
      "£33.34\n",
      "£17.93\n",
      "£22.60\n",
      "£52.15\n",
      "£13.99\n",
      "£20.66\n",
      "£17.46\n",
      "£52.29\n",
      "£35.02\n",
      "£57.25\n",
      "£23.88\n",
      "£37.59\n",
      "£51.33\n",
      "£45.17\n"
     ]
    }
   ],
   "source": [
    "#  price for page 1 using for loop\n",
    "for price in page:\n",
    "    print(price.find('p',class_='price_color').text[1:])"
   ]
  },
  {
   "cell_type": "markdown",
   "id": "5940ba86",
   "metadata": {},
   "source": [
    "\n",
    "# Iterating for page 1\n"
   ]
  },
  {
   "cell_type": "markdown",
   "id": "50d2243e",
   "metadata": {},
   "source": [
    "\n",
    "# checking all the values and using variables to store it in\n",
    "\n",
    "\n",
    "\n",
    "#  ex - title,rating ,price,availibility and printing it to check for page 1"
   ]
  },
  {
   "cell_type": "code",
   "execution_count": 11,
   "id": "c6af8e8f",
   "metadata": {},
   "outputs": [
    {
     "name": "stdout",
     "output_type": "stream",
     "text": [
      "Three 51.77 In stock A Light in the Attic\n",
      "One 53.74 In stock Tipping the Velvet\n",
      "One 50.10 In stock Soumission\n",
      "Four 47.82 In stock Sharp Objects\n",
      "Five 54.23 In stock Sapiens: A Brief History of Humankind\n",
      "One 22.65 In stock The Requiem Red\n",
      "Four 33.34 In stock The Dirty Little Secrets of Getting Your Dream Job\n",
      "Three 17.93 In stock The Coming Woman: A Novel Based on the Life of the Infamous Feminist, Victoria Woodhull\n",
      "Four 22.60 In stock The Boys in the Boat: Nine Americans and Their Epic Quest for Gold at the 1936 Berlin Olympics\n",
      "One 52.15 In stock The Black Maria\n",
      "Two 13.99 In stock Starving Hearts (Triangular Trade Trilogy, #1)\n",
      "Four 20.66 In stock Shakespeare's Sonnets\n",
      "Five 17.46 In stock Set Me Free\n",
      "Five 52.29 In stock Scott Pilgrim's Precious Little Life (Scott Pilgrim #1)\n",
      "Five 35.02 In stock Rip it Up and Start Again\n",
      "Three 57.25 In stock Our Band Could Be Your Life: Scenes from the American Indie Underground, 1981-1991\n",
      "One 23.88 In stock Olio\n",
      "One 37.59 In stock Mesaerion: The Best Science Fiction Stories 1800-1849\n",
      "Two 51.33 In stock Libertarianism for Beginners\n",
      "Two 45.17 In stock It's Only the Himalayas\n"
     ]
    }
   ],
   "source": [
    "# page[0].find('a').get('href')[10:-16]\n",
    "# title found here\n",
    "for book in page:\n",
    "#     print(page.find('a').get('href')[10:-15]) \n",
    "    title= book.find('img').get('alt')\n",
    "    ratings= book.find('p',class_= 'star-rating').get('class')[1]\n",
    "    price = book.find('p',class_='price_color').text[2:]\n",
    "    availability  = book.find('p', class_='instock availability').text.strip()\n",
    "    print(ratings,price,availability,title) \n"
   ]
  },
  {
   "cell_type": "markdown",
   "id": "3a037dd4",
   "metadata": {},
   "source": [
    " "
   ]
  },
  {
   "cell_type": "markdown",
   "id": "2032364f",
   "metadata": {},
   "source": [
    "\"The Upper Code Works Well  for 1 Page\""
   ]
  },
  {
   "cell_type": "markdown",
   "id": "b7a9a96c",
   "metadata": {},
   "source": [
    "## Implementing Scrape Function"
   ]
  },
  {
   "cell_type": "code",
   "execution_count": 80,
   "id": "058817e1",
   "metadata": {},
   "outputs": [],
   "source": [
    "# main code \n",
    "def scrape(url,lst):\n",
    "    \n",
    "    pg =1\n",
    "    soup = bs(r.text,'lxml')\n",
    "#     soup as we implemented earlier at the start of code\n",
    "\n",
    "    page= soup.find_all('article',class_= 'product_pod')\n",
    "#     filtering the page in page variable\n",
    "\n",
    "    for book in page: \n",
    "        title= book.find('img').get('alt')\n",
    "        ratings= book.find('p',class_= 'star-rating').get('class')[1]\n",
    "        price = book.find('p',class_='price_color').text[2:]\n",
    "        availability  = book.find('p', class_='instock availability').text.strip()\n",
    "#  iterated for page using book \n",
    "# title and other variables contain the data for 20 items and then iterate for next page\n",
    "        lst.append({'title': title,\n",
    "                'Price':price,\n",
    "                'Ratings': ratings,\n",
    "                'Availability':availability\n",
    "               }# all the details in page 1\n",
    "              )\n",
    "#     appending title and other variables in list(lst) to store the data \n",
    "\n",
    "while (pg < 51):\n",
    "    scrape(url,lst)\n",
    "    pg+=1\n",
    "    data = pd.DataFrame(lst)\n",
    "# we have 50 pages so we iterage for 50 pages here \n",
    "# and as soon as 51 hits it will stop and list will have all the elements in data \n"
   ]
  },
  {
   "cell_type": "code",
   "execution_count": 81,
   "id": "c1ed842d",
   "metadata": {},
   "outputs": [
    {
     "data": {
      "text/plain": [
       "title           2000\n",
       "Price           2000\n",
       "Ratings         2000\n",
       "Availability    2000\n",
       "dtype: int64"
      ]
     },
     "execution_count": 81,
     "metadata": {},
     "output_type": "execute_result"
    }
   ],
   "source": [
    "data.count()\n",
    "# checking all the values of data"
   ]
  },
  {
   "cell_type": "code",
   "execution_count": 82,
   "id": "8ca3dfba",
   "metadata": {},
   "outputs": [
    {
     "name": "stdout",
     "output_type": "stream",
     "text": [
      "<class 'pandas.core.frame.DataFrame'>\n",
      "RangeIndex: 2000 entries, 0 to 1999\n",
      "Data columns (total 4 columns):\n",
      " #   Column        Non-Null Count  Dtype \n",
      "---  ------        --------------  ----- \n",
      " 0   title         2000 non-null   object\n",
      " 1   Price         2000 non-null   object\n",
      " 2   Ratings       2000 non-null   object\n",
      " 3   Availability  2000 non-null   object\n",
      "dtypes: object(4)\n",
      "memory usage: 62.6+ KB\n"
     ]
    }
   ],
   "source": [
    "data.info()"
   ]
  },
  {
   "cell_type": "code",
   "execution_count": 84,
   "id": "2e0514d0",
   "metadata": {},
   "outputs": [
    {
     "data": {
      "text/html": [
       "<div>\n",
       "<style scoped>\n",
       "    .dataframe tbody tr th:only-of-type {\n",
       "        vertical-align: middle;\n",
       "    }\n",
       "\n",
       "    .dataframe tbody tr th {\n",
       "        vertical-align: top;\n",
       "    }\n",
       "\n",
       "    .dataframe thead th {\n",
       "        text-align: right;\n",
       "    }\n",
       "</style>\n",
       "<table border=\"1\" class=\"dataframe\">\n",
       "  <thead>\n",
       "    <tr style=\"text-align: right;\">\n",
       "      <th></th>\n",
       "      <th>title</th>\n",
       "      <th>Price</th>\n",
       "      <th>Ratings</th>\n",
       "      <th>Availability</th>\n",
       "    </tr>\n",
       "  </thead>\n",
       "  <tbody>\n",
       "    <tr>\n",
       "      <th>0</th>\n",
       "      <td>A Light in the Attic</td>\n",
       "      <td>51.77</td>\n",
       "      <td>3</td>\n",
       "      <td>In stock</td>\n",
       "    </tr>\n",
       "    <tr>\n",
       "      <th>1</th>\n",
       "      <td>Tipping the Velvet</td>\n",
       "      <td>53.74</td>\n",
       "      <td>1</td>\n",
       "      <td>In stock</td>\n",
       "    </tr>\n",
       "    <tr>\n",
       "      <th>2</th>\n",
       "      <td>Soumission</td>\n",
       "      <td>50.10</td>\n",
       "      <td>1</td>\n",
       "      <td>In stock</td>\n",
       "    </tr>\n",
       "    <tr>\n",
       "      <th>3</th>\n",
       "      <td>Sharp Objects</td>\n",
       "      <td>47.82</td>\n",
       "      <td>4</td>\n",
       "      <td>In stock</td>\n",
       "    </tr>\n",
       "    <tr>\n",
       "      <th>4</th>\n",
       "      <td>Sapiens: A Brief History of Humankind</td>\n",
       "      <td>54.23</td>\n",
       "      <td>5</td>\n",
       "      <td>In stock</td>\n",
       "    </tr>\n",
       "    <tr>\n",
       "      <th>...</th>\n",
       "      <td>...</td>\n",
       "      <td>...</td>\n",
       "      <td>...</td>\n",
       "      <td>...</td>\n",
       "    </tr>\n",
       "    <tr>\n",
       "      <th>1995</th>\n",
       "      <td>Our Band Could Be Your Life: Scenes from the A...</td>\n",
       "      <td>57.25</td>\n",
       "      <td>3</td>\n",
       "      <td>In stock</td>\n",
       "    </tr>\n",
       "    <tr>\n",
       "      <th>1996</th>\n",
       "      <td>Olio</td>\n",
       "      <td>23.88</td>\n",
       "      <td>1</td>\n",
       "      <td>In stock</td>\n",
       "    </tr>\n",
       "    <tr>\n",
       "      <th>1997</th>\n",
       "      <td>Mesaerion: The Best Science Fiction Stories 18...</td>\n",
       "      <td>37.59</td>\n",
       "      <td>1</td>\n",
       "      <td>In stock</td>\n",
       "    </tr>\n",
       "    <tr>\n",
       "      <th>1998</th>\n",
       "      <td>Libertarianism for Beginners</td>\n",
       "      <td>51.33</td>\n",
       "      <td>2</td>\n",
       "      <td>In stock</td>\n",
       "    </tr>\n",
       "    <tr>\n",
       "      <th>1999</th>\n",
       "      <td>It's Only the Himalayas</td>\n",
       "      <td>45.17</td>\n",
       "      <td>2</td>\n",
       "      <td>In stock</td>\n",
       "    </tr>\n",
       "  </tbody>\n",
       "</table>\n",
       "<p>2000 rows × 4 columns</p>\n",
       "</div>"
      ],
      "text/plain": [
       "                                                  title  Price  Ratings  \\\n",
       "0                                  A Light in the Attic  51.77        3   \n",
       "1                                    Tipping the Velvet  53.74        1   \n",
       "2                                            Soumission  50.10        1   \n",
       "3                                         Sharp Objects  47.82        4   \n",
       "4                 Sapiens: A Brief History of Humankind  54.23        5   \n",
       "...                                                 ...    ...      ...   \n",
       "1995  Our Band Could Be Your Life: Scenes from the A...  57.25        3   \n",
       "1996                                               Olio  23.88        1   \n",
       "1997  Mesaerion: The Best Science Fiction Stories 18...  37.59        1   \n",
       "1998                       Libertarianism for Beginners  51.33        2   \n",
       "1999                            It's Only the Himalayas  45.17        2   \n",
       "\n",
       "     Availability  \n",
       "0        In stock  \n",
       "1        In stock  \n",
       "2        In stock  \n",
       "3        In stock  \n",
       "4        In stock  \n",
       "...           ...  \n",
       "1995     In stock  \n",
       "1996     In stock  \n",
       "1997     In stock  \n",
       "1998     In stock  \n",
       "1999     In stock  \n",
       "\n",
       "[2000 rows x 4 columns]"
      ]
     },
     "execution_count": 84,
     "metadata": {},
     "output_type": "execute_result"
    }
   ],
   "source": [
    "data['Ratings']= data['Ratings'].replace(['One','Two',\"Three\",\"Four\",\"Five\"],[1,2,3,4,5])\n",
    "# converting ratings into numerical data\n",
    "# which is originally categorical data\n",
    "data\n",
    "# checking data\n",
    "# all the values are as it should be"
   ]
  },
  {
   "cell_type": "markdown",
   "id": "d260f16d",
   "metadata": {},
   "source": [
    "# Creating Database and Storing Values"
   ]
  },
  {
   "cell_type": "code",
   "execution_count": 85,
   "id": "80a8ae3a",
   "metadata": {},
   "outputs": [],
   "source": [
    "# books_schema = \"\"\"\n",
    "\n",
    "#     CREATE TABLE books_scraped( \n",
    "#         title     TEXT, \n",
    "#         Price     REAL, \n",
    "#         Rate      INTEGER,\n",
    "#         in_stock  TEXT,     \n",
    "#     )\n",
    "# \"\"\"\n",
    "#  create table query"
   ]
  },
  {
   "cell_type": "code",
   "execution_count": 25,
   "id": "940b0c4f",
   "metadata": {},
   "outputs": [],
   "source": [
    "# db = mysql.connector.connect(host='localhost',user= 'root',database= 'scrape_db',password= \"Kaushik.9871\")"
   ]
  },
  {
   "cell_type": "markdown",
   "id": "cf5e1c3f",
   "metadata": {},
   "source": [
    "# CREATING A CONNECTION WITH DATABASE"
   ]
  },
  {
   "cell_type": "code",
   "execution_count": 88,
   "id": "7749252e",
   "metadata": {},
   "outputs": [],
   "source": [
    "conn = sqlite3.connect('scrape_db')\n",
    "# creating a connector here with sqlite with dat"
   ]
  },
  {
   "cell_type": "code",
   "execution_count": 89,
   "id": "3f73341c",
   "metadata": {},
   "outputs": [
    {
     "ename": "OperationalError",
     "evalue": "table books already exists",
     "output_type": "error",
     "traceback": [
      "\u001b[1;31m---------------------------------------------------------------------------\u001b[0m",
      "\u001b[1;31mOperationalError\u001b[0m                          Traceback (most recent call last)",
      "\u001b[1;32m<ipython-input-89-d03925c1d418>\u001b[0m in \u001b[0;36m<module>\u001b[1;34m\u001b[0m\n\u001b[0;32m      1\u001b[0m \u001b[0mc\u001b[0m\u001b[1;33m=\u001b[0m \u001b[0mconn\u001b[0m\u001b[1;33m.\u001b[0m\u001b[0mcursor\u001b[0m\u001b[1;33m(\u001b[0m\u001b[1;33m)\u001b[0m\u001b[1;33m\u001b[0m\u001b[1;33m\u001b[0m\u001b[0m\n\u001b[0;32m      2\u001b[0m \u001b[1;31m# cursor is created here\u001b[0m\u001b[1;33m\u001b[0m\u001b[1;33m\u001b[0m\u001b[1;33m\u001b[0m\u001b[0m\n\u001b[1;32m----> 3\u001b[1;33m \u001b[0mc\u001b[0m\u001b[1;33m.\u001b[0m\u001b[0mexecute\u001b[0m\u001b[1;33m(\u001b[0m\u001b[1;34m\"\"\"CREATE TABLE books(title TEXT, Price REAL , RATINGS REAL,Availability TEXT)\"\"\"\u001b[0m\u001b[1;33m)\u001b[0m\u001b[1;33m\u001b[0m\u001b[1;33m\u001b[0m\u001b[0m\n\u001b[0m\u001b[0;32m      4\u001b[0m \u001b[1;31m#\u001b[0m\u001b[1;33m\u001b[0m\u001b[1;33m\u001b[0m\u001b[1;33m\u001b[0m\u001b[0m\n",
      "\u001b[1;31mOperationalError\u001b[0m: table books already exists"
     ]
    }
   ],
   "source": [
    "c= conn.cursor()\n",
    "# cursor is created here \n",
    "# cursor allows user to  name or access stored data \n",
    "c.execute(\"\"\"CREATE TABLE books(title TEXT, Price REAL , RATINGS REAL,Availability TEXT)\"\"\")\n",
    "# executes sql statements "
   ]
  },
  {
   "cell_type": "code",
   "execution_count": 67,
   "id": "420fd812",
   "metadata": {},
   "outputs": [],
   "source": [
    "conn= create_engine('sqlite:///scrape_db.sqlite', echo=False)\n",
    "# The SQLAlchemy engine creates a common interface to the database to execute SQL statements.\n",
    "#  we transfer data from jupyter to sql using engine"
   ]
  },
  {
   "cell_type": "code",
   "execution_count": 69,
   "id": "5f188119",
   "metadata": {},
   "outputs": [
    {
     "name": "stdout",
     "output_type": "stream",
     "text": [
      "Engine(sqlite:///scrape_db.sqlite)\n"
     ]
    }
   ],
   "source": [
    "print(conn)\n",
    "# connection succeded"
   ]
  },
  {
   "cell_type": "code",
   "execution_count": 90,
   "id": "0891cb21",
   "metadata": {},
   "outputs": [],
   "source": [
    "# data to sql which is used to transfer data as it is"
   ]
  },
  {
   "cell_type": "code",
   "execution_count": 70,
   "id": "27ee2857",
   "metadata": {},
   "outputs": [],
   "source": [
    "data.to_sql('books', con=conn, if_exists='append', index=False)"
   ]
  },
  {
   "cell_type": "code",
   "execution_count": 71,
   "id": "25f4dafc",
   "metadata": {},
   "outputs": [],
   "source": [
    "query = \"\"\"\n",
    "    SELECT * FROM books\n",
    "\"\"\""
   ]
  },
  {
   "cell_type": "code",
   "execution_count": null,
   "id": "2cf8e76e",
   "metadata": {},
   "outputs": [],
   "source": [
    "# we use query to read for sql table"
   ]
  },
  {
   "cell_type": "code",
   "execution_count": 72,
   "id": "e1f23e2f",
   "metadata": {},
   "outputs": [],
   "source": [
    "df = pd.read_sql_query(query, conn)\n",
    "# here we stored sql query  data for reading sql table "
   ]
  },
  {
   "cell_type": "code",
   "execution_count": 93,
   "id": "a23b6f58",
   "metadata": {},
   "outputs": [
    {
     "data": {
      "text/html": [
       "<div>\n",
       "<style scoped>\n",
       "    .dataframe tbody tr th:only-of-type {\n",
       "        vertical-align: middle;\n",
       "    }\n",
       "\n",
       "    .dataframe tbody tr th {\n",
       "        vertical-align: top;\n",
       "    }\n",
       "\n",
       "    .dataframe thead th {\n",
       "        text-align: right;\n",
       "    }\n",
       "</style>\n",
       "<table border=\"1\" class=\"dataframe\">\n",
       "  <thead>\n",
       "    <tr style=\"text-align: right;\">\n",
       "      <th></th>\n",
       "      <th>title</th>\n",
       "      <th>Price</th>\n",
       "      <th>Ratings</th>\n",
       "      <th>Availability</th>\n",
       "    </tr>\n",
       "  </thead>\n",
       "  <tbody>\n",
       "    <tr>\n",
       "      <th>0</th>\n",
       "      <td>A Light in the Attic</td>\n",
       "      <td>51.77</td>\n",
       "      <td>3</td>\n",
       "      <td>In stock</td>\n",
       "    </tr>\n",
       "    <tr>\n",
       "      <th>1</th>\n",
       "      <td>Tipping the Velvet</td>\n",
       "      <td>53.74</td>\n",
       "      <td>1</td>\n",
       "      <td>In stock</td>\n",
       "    </tr>\n",
       "    <tr>\n",
       "      <th>2</th>\n",
       "      <td>Soumission</td>\n",
       "      <td>50.10</td>\n",
       "      <td>1</td>\n",
       "      <td>In stock</td>\n",
       "    </tr>\n",
       "    <tr>\n",
       "      <th>3</th>\n",
       "      <td>Sharp Objects</td>\n",
       "      <td>47.82</td>\n",
       "      <td>4</td>\n",
       "      <td>In stock</td>\n",
       "    </tr>\n",
       "    <tr>\n",
       "      <th>4</th>\n",
       "      <td>Sapiens: A Brief History of Humankind</td>\n",
       "      <td>54.23</td>\n",
       "      <td>5</td>\n",
       "      <td>In stock</td>\n",
       "    </tr>\n",
       "    <tr>\n",
       "      <th>...</th>\n",
       "      <td>...</td>\n",
       "      <td>...</td>\n",
       "      <td>...</td>\n",
       "      <td>...</td>\n",
       "    </tr>\n",
       "    <tr>\n",
       "      <th>995</th>\n",
       "      <td>Our Band Could Be Your Life: Scenes from the A...</td>\n",
       "      <td>57.25</td>\n",
       "      <td>3</td>\n",
       "      <td>In stock</td>\n",
       "    </tr>\n",
       "    <tr>\n",
       "      <th>996</th>\n",
       "      <td>Olio</td>\n",
       "      <td>23.88</td>\n",
       "      <td>1</td>\n",
       "      <td>In stock</td>\n",
       "    </tr>\n",
       "    <tr>\n",
       "      <th>997</th>\n",
       "      <td>Mesaerion: The Best Science Fiction Stories 18...</td>\n",
       "      <td>37.59</td>\n",
       "      <td>1</td>\n",
       "      <td>In stock</td>\n",
       "    </tr>\n",
       "    <tr>\n",
       "      <th>998</th>\n",
       "      <td>Libertarianism for Beginners</td>\n",
       "      <td>51.33</td>\n",
       "      <td>2</td>\n",
       "      <td>In stock</td>\n",
       "    </tr>\n",
       "    <tr>\n",
       "      <th>999</th>\n",
       "      <td>It's Only the Himalayas</td>\n",
       "      <td>45.17</td>\n",
       "      <td>2</td>\n",
       "      <td>In stock</td>\n",
       "    </tr>\n",
       "  </tbody>\n",
       "</table>\n",
       "<p>1000 rows × 4 columns</p>\n",
       "</div>"
      ],
      "text/plain": [
       "                                                 title  Price  Ratings  \\\n",
       "0                                 A Light in the Attic  51.77        3   \n",
       "1                                   Tipping the Velvet  53.74        1   \n",
       "2                                           Soumission  50.10        1   \n",
       "3                                        Sharp Objects  47.82        4   \n",
       "4                Sapiens: A Brief History of Humankind  54.23        5   \n",
       "..                                                 ...    ...      ...   \n",
       "995  Our Band Could Be Your Life: Scenes from the A...  57.25        3   \n",
       "996                                               Olio  23.88        1   \n",
       "997  Mesaerion: The Best Science Fiction Stories 18...  37.59        1   \n",
       "998                       Libertarianism for Beginners  51.33        2   \n",
       "999                            It's Only the Himalayas  45.17        2   \n",
       "\n",
       "    Availability  \n",
       "0       In stock  \n",
       "1       In stock  \n",
       "2       In stock  \n",
       "3       In stock  \n",
       "4       In stock  \n",
       "..           ...  \n",
       "995     In stock  \n",
       "996     In stock  \n",
       "997     In stock  \n",
       "998     In stock  \n",
       "999     In stock  \n",
       "\n",
       "[1000 rows x 4 columns]"
      ]
     },
     "execution_count": 93,
     "metadata": {},
     "output_type": "execute_result"
    }
   ],
   "source": [
    "df"
   ]
  },
  {
   "cell_type": "markdown",
   "id": "8fb45341",
   "metadata": {},
   "source": [
    "# Thank you!"
   ]
  }
 ],
 "metadata": {
  "kernelspec": {
   "display_name": "Python 3",
   "language": "python",
   "name": "python3"
  },
  "latex_envs": {
   "LaTeX_envs_menu_present": true,
   "autoclose": false,
   "autocomplete": true,
   "bibliofile": "biblio.bib",
   "cite_by": "apalike",
   "current_citInitial": 1,
   "eqLabelWithNumbers": true,
   "eqNumInitial": 1,
   "hotkeys": {
    "equation": "Ctrl-E",
    "itemize": "Ctrl-I"
   },
   "labels_anchors": false,
   "latex_user_defs": false,
   "report_style_numbering": false,
   "user_envs_cfg": false
  },
  "varInspector": {
   "cols": {
    "lenName": 16,
    "lenType": 16,
    "lenVar": 40
   },
   "kernels_config": {
    "python": {
     "delete_cmd_postfix": "",
     "delete_cmd_prefix": "del ",
     "library": "var_list.py",
     "varRefreshCmd": "print(var_dic_list())"
    },
    "r": {
     "delete_cmd_postfix": ") ",
     "delete_cmd_prefix": "rm(",
     "library": "var_list.r",
     "varRefreshCmd": "cat(var_dic_list()) "
    }
   },
   "types_to_exclude": [
    "module",
    "function",
    "builtin_function_or_method",
    "instance",
    "_Feature"
   ],
   "window_display": false
  }
 },
 "nbformat": 4,
 "nbformat_minor": 5
}
