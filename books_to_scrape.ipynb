{
 "cells": [
  {
   "cell_type": "markdown",
   "id": "454376f0",
   "metadata": {},
   "source": [
    "# IMPORTING LIBRARIES\n"
   ]
  },
  {
   "cell_type": "code",
   "execution_count": 12,
   "id": "a09e9e71",
   "metadata": {},
   "outputs": [],
   "source": [
    "from bs4 import BeautifulSoup as bs\n",
    "import pandas as pd\n",
    "import numpy as np\n",
    "import requests\n",
    "import mysql.connector\n",
    "import sqlite3\n",
    "from sklearn.preprocessing import OrdinalEncoder"
   ]
  },
  {
   "cell_type": "code",
   "execution_count": 14,
   "id": "c6d0370e",
   "metadata": {},
   "outputs": [],
   "source": [
    "lst= []\n",
    "# creating a list which we will use in the scrape function."
   ]
  },
  {
   "cell_type": "code",
   "execution_count": 15,
   "id": "8999ae01",
   "metadata": {},
   "outputs": [],
   "source": [
    "pg = 1\n",
    "url = f'https://books.toscrape.com/catalogue/page-{pg}.html'\n",
    "# the base url which is defined to scrape\n",
    "\n",
    "soup = bs(r.text,'lxml')\n",
    "#  here we used beautiful soup to get all the text for the page\n"
   ]
  },
  {
   "cell_type": "code",
   "execution_count": 31,
   "id": "3a482d28",
   "metadata": {},
   "outputs": [
    {
     "data": {
      "text/plain": [
       "<a href=\"../index.html\">Books to Scrape</a>"
      ]
     },
     "execution_count": 31,
     "metadata": {},
     "output_type": "execute_result"
    }
   ],
   "source": [
    "soup.find('a')"
   ]
  },
  {
   "cell_type": "code",
   "execution_count": 32,
   "id": "b01da6b1",
   "metadata": {},
   "outputs": [
    {
     "data": {
      "text/plain": [
       "'<!DOCTYPE html>\\n<!--[if lt IE 7]>      <html lang=\"en-us\" class=\"no-js lt-ie9 lt-ie8 lt-ie7\"> <![endif]-->\\n<!--[if IE 7]>         <html lang=\"en-us\" class=\"no-js lt-ie9 lt-ie8\"> <![endif]-->\\n<!--[if IE 8]>         <html lang=\"en-us\" class=\"no-js lt-ie9\"> <![endif]-->\\n<!--[if gt IE 8]><!-->\\n<html class=\"no-js\" lang=\"en-us\">\\n <!--<![endif]-->\\n <head>\\n  <title>\\n   All products | Books to Scrape - Sandbox\\n  </title>\\n  <meta content=\"text/html; charset=utf-8\" http-equiv=\"content-type\"/>\\n  <meta content=\"24th Jun 2016 09:30\" name=\"created\"/>\\n  <meta content=\"\" name=\"description\"/>\\n  <meta content=\"width=device-width\" name=\"viewport\"/>\\n  <meta content=\"NOARCHIVE,NOCACHE\" name=\"robots\"/>\\n  <!-- Le HTML5 shim, for IE6-8 support of HTML elements -->\\n  <!--[if lt IE 9]>\\n        <script src=\"//html5shim.googlecode.com/svn/trunk/html5.js\"></script>\\n        <![endif]-->\\n  <link href=\"../static/oscar/favicon.ico\" rel=\"shortcut icon\"/>\\n  <link href=\"../static/oscar/css/styles.css\" rel=\"stylesheet\" type=\"text/css\"/>\\n  <link href=\"../static/oscar/js/bootstrap-datetimepicker/bootstrap-datetimepicker.css\" rel=\"stylesheet\"/>\\n  <link href=\"../static/oscar/css/datetimepicker.css\" rel=\"stylesheet\" type=\"text/css\"/>\\n </head>\\n <body class=\"default\" id=\"default\">\\n  <header class=\"header container-fluid\">\\n   <div class=\"page_inner\">\\n    <div class=\"row\">\\n     <div class=\"col-sm-8 h1\">\\n      <a href=\"../index.html\">\\n       Books to Scrape\\n      </a>\\n      <small>\\n       We love being scraped!\\n      </small>\\n     </div>\\n    </div>\\n   </div>\\n  </header>\\n  <div class=\"container-fluid page\">\\n   <div class=\"page_inner\">\\n    <ul class=\"breadcrumb\">\\n     <li>\\n      <a href=\"../index.html\">\\n       Home\\n      </a>\\n     </li>\\n     <li class=\"active\">\\n      All products\\n     </li>\\n    </ul>\\n    <div class=\"row\">\\n     <aside class=\"sidebar col-sm-4 col-md-3\">\\n      <div id=\"promotions_left\">\\n      </div>\\n      <div class=\"side_categories\">\\n       <ul class=\"nav nav-list\">\\n        <li>\\n         <a href=\"category/books_1/index.html\">\\n          Books\\n         </a>\\n         <ul>\\n          <li>\\n           <a href=\"category/books/travel_2/index.html\">\\n            Travel\\n           </a>\\n          </li>\\n          <li>\\n           <a href=\"category/books/mystery_3/index.html\">\\n            Mystery\\n           </a>\\n          </li>\\n          <li>\\n           <a href=\"category/books/historical-fiction_4/index.html\">\\n            Historical Fiction\\n           </a>\\n          </li>\\n          <li>\\n           <a href=\"category/books/sequential-art_5/index.html\">\\n            Sequential Art\\n           </a>\\n          </li>\\n          <li>\\n           <a href=\"category/books/classics_6/index.html\">\\n            Classics\\n           </a>\\n          </li>\\n          <li>\\n           <a href=\"category/books/philosophy_7/index.html\">\\n            Philosophy\\n           </a>\\n          </li>\\n          <li>\\n           <a href=\"category/books/romance_8/index.html\">\\n            Romance\\n           </a>\\n          </li>\\n          <li>\\n           <a href=\"category/books/womens-fiction_9/index.html\">\\n            Womens Fiction\\n           </a>\\n          </li>\\n          <li>\\n           <a href=\"category/books/fiction_10/index.html\">\\n            Fiction\\n           </a>\\n          </li>\\n          <li>\\n           <a href=\"category/books/childrens_11/index.html\">\\n            Childrens\\n           </a>\\n          </li>\\n          <li>\\n           <a href=\"category/books/religion_12/index.html\">\\n            Religion\\n           </a>\\n          </li>\\n          <li>\\n           <a href=\"category/books/nonfiction_13/index.html\">\\n            Nonfiction\\n           </a>\\n          </li>\\n          <li>\\n           <a href=\"category/books/music_14/index.html\">\\n            Music\\n           </a>\\n          </li>\\n          <li>\\n           <a href=\"category/books/default_15/index.html\">\\n            Default\\n           </a>\\n          </li>\\n          <li>\\n           <a href=\"category/books/science-fiction_16/index.html\">\\n            Science Fiction\\n           </a>\\n          </li>\\n          <li>\\n           <a href=\"category/books/sports-and-games_17/index.html\">\\n            Sports and Games\\n           </a>\\n          </li>\\n          <li>\\n           <a href=\"category/books/add-a-comment_18/index.html\">\\n            Add a comment\\n           </a>\\n          </li>\\n          <li>\\n           <a href=\"category/books/fantasy_19/index.html\">\\n            Fantasy\\n           </a>\\n          </li>\\n          <li>\\n           <a href=\"category/books/new-adult_20/index.html\">\\n            New Adult\\n           </a>\\n          </li>\\n          <li>\\n           <a href=\"category/books/young-adult_21/index.html\">\\n            Young Adult\\n           </a>\\n          </li>\\n          <li>\\n           <a href=\"category/books/science_22/index.html\">\\n            Science\\n           </a>\\n          </li>\\n          <li>\\n           <a href=\"category/books/poetry_23/index.html\">\\n            Poetry\\n           </a>\\n          </li>\\n          <li>\\n           <a href=\"category/books/paranormal_24/index.html\">\\n            Paranormal\\n           </a>\\n          </li>\\n          <li>\\n           <a href=\"category/books/art_25/index.html\">\\n            Art\\n           </a>\\n          </li>\\n          <li>\\n           <a href=\"category/books/psychology_26/index.html\">\\n            Psychology\\n           </a>\\n          </li>\\n          <li>\\n           <a href=\"category/books/autobiography_27/index.html\">\\n            Autobiography\\n           </a>\\n          </li>\\n          <li>\\n           <a href=\"category/books/parenting_28/index.html\">\\n            Parenting\\n           </a>\\n          </li>\\n          <li>\\n           <a href=\"category/books/adult-fiction_29/index.html\">\\n            Adult Fiction\\n           </a>\\n          </li>\\n          <li>\\n           <a href=\"category/books/humor_30/index.html\">\\n            Humor\\n           </a>\\n          </li>\\n          <li>\\n           <a href=\"category/books/horror_31/index.html\">\\n            Horror\\n           </a>\\n          </li>\\n          <li>\\n           <a href=\"category/books/history_32/index.html\">\\n            History\\n           </a>\\n          </li>\\n          <li>\\n           <a href=\"category/books/food-and-drink_33/index.html\">\\n            Food and Drink\\n           </a>\\n          </li>\\n          <li>\\n           <a href=\"category/books/christian-fiction_34/index.html\">\\n            Christian Fiction\\n           </a>\\n          </li>\\n          <li>\\n           <a href=\"category/books/business_35/index.html\">\\n            Business\\n           </a>\\n          </li>\\n          <li>\\n           <a href=\"category/books/biography_36/index.html\">\\n            Biography\\n           </a>\\n          </li>\\n          <li>\\n           <a href=\"category/books/thriller_37/index.html\">\\n            Thriller\\n           </a>\\n          </li>\\n          <li>\\n           <a href=\"category/books/contemporary_38/index.html\">\\n            Contemporary\\n           </a>\\n          </li>\\n          <li>\\n           <a href=\"category/books/spirituality_39/index.html\">\\n            Spirituality\\n           </a>\\n          </li>\\n          <li>\\n           <a href=\"category/books/academic_40/index.html\">\\n            Academic\\n           </a>\\n          </li>\\n          <li>\\n           <a href=\"category/books/self-help_41/index.html\">\\n            Self Help\\n           </a>\\n          </li>\\n          <li>\\n           <a href=\"category/books/historical_42/index.html\">\\n            Historical\\n           </a>\\n          </li>\\n          <li>\\n           <a href=\"category/books/christian_43/index.html\">\\n            Christian\\n           </a>\\n          </li>\\n          <li>\\n           <a href=\"category/books/suspense_44/index.html\">\\n            Suspense\\n           </a>\\n          </li>\\n          <li>\\n           <a href=\"category/books/short-stories_45/index.html\">\\n            Short Stories\\n           </a>\\n          </li>\\n          <li>\\n           <a href=\"category/books/novels_46/index.html\">\\n            Novels\\n           </a>\\n          </li>\\n          <li>\\n           <a href=\"category/books/health_47/index.html\">\\n            Health\\n           </a>\\n          </li>\\n          <li>\\n           <a href=\"category/books/politics_48/index.html\">\\n            Politics\\n           </a>\\n          </li>\\n          <li>\\n           <a href=\"category/books/cultural_49/index.html\">\\n            Cultural\\n           </a>\\n          </li>\\n          <li>\\n           <a href=\"category/books/erotica_50/index.html\">\\n            Erotica\\n           </a>\\n          </li>\\n          <li>\\n           <a href=\"category/books/crime_51/index.html\">\\n            Crime\\n           </a>\\n          </li>\\n         </ul>\\n        </li>\\n       </ul>\\n      </div>\\n     </aside>\\n     <div class=\"col-sm-8 col-md-9\">\\n      <div class=\"page-header action\">\\n       <h1>\\n        All products\\n       </h1>\\n      </div>\\n      <div id=\"messages\">\\n      </div>\\n      <div id=\"promotions\">\\n      </div>\\n      <form class=\"form-horizontal\" method=\"get\">\\n       <div style=\"display:none\">\\n       </div>\\n       <strong>\\n        1000\\n       </strong>\\n       results - showing\\n       <strong>\\n        1\\n       </strong>\\n       to\\n       <strong>\\n        20\\n       </strong>\\n       .\\n      </form>\\n      <section>\\n       <div class=\"alert alert-warning\" role=\"alert\">\\n        <strong>\\n         Warning!\\n        </strong>\\n        This is a demo website for web scraping purposes. Prices and ratings here were randomly assigned and have no real meaning.\\n       </div>\\n       <div>\\n        <ol class=\"row\">\\n         <li class=\"col-xs-6 col-sm-4 col-md-3 col-lg-3\">\\n          <article class=\"product_pod\">\\n           <div class=\"image_container\">\\n            <a href=\"a-light-in-the-attic_1000/index.html\">\\n             <img alt=\"A Light in the Attic\" class=\"thumbnail\" src=\"../media/cache/2c/da/2cdad67c44b002e7ead0cc35693c0e8b.jpg\"/>\\n            </a>\\n           </div>\\n           <p class=\"star-rating Three\">\\n            <i class=\"icon-star\">\\n            </i>\\n            <i class=\"icon-star\">\\n            </i>\\n            <i class=\"icon-star\">\\n            </i>\\n            <i class=\"icon-star\">\\n            </i>\\n            <i class=\"icon-star\">\\n            </i>\\n           </p>\\n           <h3>\\n            <a href=\"a-light-in-the-attic_1000/index.html\" title=\"A Light in the Attic\">\\n             A Light in the ...\\n            </a>\\n           </h3>\\n           <div class=\"product_price\">\\n            <p class=\"price_color\">\\n             Â£51.77\\n            </p>\\n            <p class=\"instock availability\">\\n             <i class=\"icon-ok\">\\n             </i>\\n             In stock\\n            </p>\\n            <form>\\n             <button class=\"btn btn-primary btn-block\" data-loading-text=\"Adding...\" type=\"submit\">\\n              Add to basket\\n             </button>\\n            </form>\\n           </div>\\n          </article>\\n         </li>\\n         <li class=\"col-xs-6 col-sm-4 col-md-3 col-lg-3\">\\n          <article class=\"product_pod\">\\n           <div class=\"image_container\">\\n            <a href=\"tipping-the-velvet_999/index.html\">\\n             <img alt=\"Tipping the Velvet\" class=\"thumbnail\" src=\"../media/cache/26/0c/260c6ae16bce31c8f8c95daddd9f4a1c.jpg\"/>\\n            </a>\\n           </div>\\n           <p class=\"star-rating One\">\\n            <i class=\"icon-star\">\\n            </i>\\n            <i class=\"icon-star\">\\n            </i>\\n            <i class=\"icon-star\">\\n            </i>\\n            <i class=\"icon-star\">\\n            </i>\\n            <i class=\"icon-star\">\\n            </i>\\n           </p>\\n           <h3>\\n            <a href=\"tipping-the-velvet_999/index.html\" title=\"Tipping the Velvet\">\\n             Tipping the Velvet\\n            </a>\\n           </h3>\\n           <div class=\"product_price\">\\n            <p class=\"price_color\">\\n             Â£53.74\\n            </p>\\n            <p class=\"instock availability\">\\n             <i class=\"icon-ok\">\\n             </i>\\n             In stock\\n            </p>\\n            <form>\\n             <button class=\"btn btn-primary btn-block\" data-loading-text=\"Adding...\" type=\"submit\">\\n              Add to basket\\n             </button>\\n            </form>\\n           </div>\\n          </article>\\n         </li>\\n         <li class=\"col-xs-6 col-sm-4 col-md-3 col-lg-3\">\\n          <article class=\"product_pod\">\\n           <div class=\"image_container\">\\n            <a href=\"soumission_998/index.html\">\\n             <img alt=\"Soumission\" class=\"thumbnail\" src=\"../media/cache/3e/ef/3eef99c9d9adef34639f510662022830.jpg\"/>\\n            </a>\\n           </div>\\n           <p class=\"star-rating One\">\\n            <i class=\"icon-star\">\\n            </i>\\n            <i class=\"icon-star\">\\n            </i>\\n            <i class=\"icon-star\">\\n            </i>\\n            <i class=\"icon-star\">\\n            </i>\\n            <i class=\"icon-star\">\\n            </i>\\n           </p>\\n           <h3>\\n            <a href=\"soumission_998/index.html\" title=\"Soumission\">\\n             Soumission\\n            </a>\\n           </h3>\\n           <div class=\"product_price\">\\n            <p class=\"price_color\">\\n             Â£50.10\\n            </p>\\n            <p class=\"instock availability\">\\n             <i class=\"icon-ok\">\\n             </i>\\n             In stock\\n            </p>\\n            <form>\\n             <button class=\"btn btn-primary btn-block\" data-loading-text=\"Adding...\" type=\"submit\">\\n              Add to basket\\n             </button>\\n            </form>\\n           </div>\\n          </article>\\n         </li>\\n         <li class=\"col-xs-6 col-sm-4 col-md-3 col-lg-3\">\\n          <article class=\"product_pod\">\\n           <div class=\"image_container\">\\n            <a href=\"sharp-objects_997/index.html\">\\n             <img alt=\"Sharp Objects\" class=\"thumbnail\" src=\"../media/cache/32/51/3251cf3a3412f53f339e42cac2134093.jpg\"/>\\n            </a>\\n           </div>\\n           <p class=\"star-rating Four\">\\n            <i class=\"icon-star\">\\n            </i>\\n            <i class=\"icon-star\">\\n            </i>\\n            <i class=\"icon-star\">\\n            </i>\\n            <i class=\"icon-star\">\\n            </i>\\n            <i class=\"icon-star\">\\n            </i>\\n           </p>\\n           <h3>\\n            <a href=\"sharp-objects_997/index.html\" title=\"Sharp Objects\">\\n             Sharp Objects\\n            </a>\\n           </h3>\\n           <div class=\"product_price\">\\n            <p class=\"price_color\">\\n             Â£47.82\\n            </p>\\n            <p class=\"instock availability\">\\n             <i class=\"icon-ok\">\\n             </i>\\n             In stock\\n            </p>\\n            <form>\\n             <button class=\"btn btn-primary btn-block\" data-loading-text=\"Adding...\" type=\"submit\">\\n              Add to basket\\n             </button>\\n            </form>\\n           </div>\\n          </article>\\n         </li>\\n         <li class=\"col-xs-6 col-sm-4 col-md-3 col-lg-3\">\\n          <article class=\"product_pod\">\\n           <div class=\"image_container\">\\n            <a href=\"sapiens-a-brief-history-of-humankind_996/index.html\">\\n             <img alt=\"Sapiens: A Brief History of Humankind\" class=\"thumbnail\" src=\"../media/cache/be/a5/bea5697f2534a2f86a3ef27b5a8c12a6.jpg\"/>\\n            </a>\\n           </div>\\n           <p class=\"star-rating Five\">\\n            <i class=\"icon-star\">\\n            </i>\\n            <i class=\"icon-star\">\\n            </i>\\n            <i class=\"icon-star\">\\n            </i>\\n            <i class=\"icon-star\">\\n            </i>\\n            <i class=\"icon-star\">\\n            </i>\\n           </p>\\n           <h3>\\n            <a href=\"sapiens-a-brief-history-of-humankind_996/index.html\" title=\"Sapiens: A Brief History of Humankind\">\\n             Sapiens: A Brief History ...\\n            </a>\\n           </h3>\\n           <div class=\"product_price\">\\n            <p class=\"price_color\">\\n             Â£54.23\\n            </p>\\n            <p class=\"instock availability\">\\n             <i class=\"icon-ok\">\\n             </i>\\n             In stock\\n            </p>\\n            <form>\\n             <button class=\"btn btn-primary btn-block\" data-loading-text=\"Adding...\" type=\"submit\">\\n              Add to basket\\n             </button>\\n            </form>\\n           </div>\\n          </article>\\n         </li>\\n         <li class=\"col-xs-6 col-sm-4 col-md-3 col-lg-3\">\\n          <article class=\"product_pod\">\\n           <div class=\"image_container\">\\n            <a href=\"the-requiem-red_995/index.html\">\\n             <img alt=\"The Requiem Red\" class=\"thumbnail\" src=\"../media/cache/68/33/68339b4c9bc034267e1da611ab3b34f8.jpg\"/>\\n            </a>\\n           </div>\\n           <p class=\"star-rating One\">\\n            <i class=\"icon-star\">\\n            </i>\\n            <i class=\"icon-star\">\\n            </i>\\n            <i class=\"icon-star\">\\n            </i>\\n            <i class=\"icon-star\">\\n            </i>\\n            <i class=\"icon-star\">\\n            </i>\\n           </p>\\n           <h3>\\n            <a href=\"the-requiem-red_995/index.html\" title=\"The Requiem Red\">\\n             The Requiem Red\\n            </a>\\n           </h3>\\n           <div class=\"product_price\">\\n            <p class=\"price_color\">\\n             Â£22.65\\n            </p>\\n            <p class=\"instock availability\">\\n             <i class=\"icon-ok\">\\n             </i>\\n             In stock\\n            </p>\\n            <form>\\n             <button class=\"btn btn-primary btn-block\" data-loading-text=\"Adding...\" type=\"submit\">\\n              Add to basket\\n             </button>\\n            </form>\\n           </div>\\n          </article>\\n         </li>\\n         <li class=\"col-xs-6 col-sm-4 col-md-3 col-lg-3\">\\n          <article class=\"product_pod\">\\n           <div class=\"image_container\">\\n            <a href=\"the-dirty-little-secrets-of-getting-your-dream-job_994/index.html\">\\n             <img alt=\"The Dirty Little Secrets of Getting Your Dream Job\" class=\"thumbnail\" src=\"../media/cache/92/27/92274a95b7c251fea59a2b8a78275ab4.jpg\"/>\\n            </a>\\n           </div>\\n           <p class=\"star-rating Four\">\\n            <i class=\"icon-star\">\\n            </i>\\n            <i class=\"icon-star\">\\n            </i>\\n            <i class=\"icon-star\">\\n            </i>\\n            <i class=\"icon-star\">\\n            </i>\\n            <i class=\"icon-star\">\\n            </i>\\n           </p>\\n           <h3>\\n            <a href=\"the-dirty-little-secrets-of-getting-your-dream-job_994/index.html\" title=\"The Dirty Little Secrets of Getting Your Dream Job\">\\n             The Dirty Little Secrets ...\\n            </a>\\n           </h3>\\n           <div class=\"product_price\">\\n            <p class=\"price_color\">\\n             Â£33.34\\n            </p>\\n            <p class=\"instock availability\">\\n             <i class=\"icon-ok\">\\n             </i>\\n             In stock\\n            </p>\\n            <form>\\n             <button class=\"btn btn-primary btn-block\" data-loading-text=\"Adding...\" type=\"submit\">\\n              Add to basket\\n             </button>\\n            </form>\\n           </div>\\n          </article>\\n         </li>\\n         <li class=\"col-xs-6 col-sm-4 col-md-3 col-lg-3\">\\n          <article class=\"product_pod\">\\n           <div class=\"image_container\">\\n            <a href=\"the-coming-woman-a-novel-based-on-the-life-of-the-infamous-feminist-victoria-woodhull_993/index.html\">\\n             <img alt=\"The Coming Woman: A Novel Based on the Life of the Infamous Feminist, Victoria Woodhull\" class=\"thumbnail\" src=\"../media/cache/3d/54/3d54940e57e662c4dd1f3ff00c78cc64.jpg\"/>\\n            </a>\\n           </div>\\n           <p class=\"star-rating Three\">\\n            <i class=\"icon-star\">\\n            </i>\\n            <i class=\"icon-star\">\\n            </i>\\n            <i class=\"icon-star\">\\n            </i>\\n            <i class=\"icon-star\">\\n            </i>\\n            <i class=\"icon-star\">\\n            </i>\\n           </p>\\n           <h3>\\n            <a href=\"the-coming-woman-a-novel-based-on-the-life-of-the-infamous-feminist-victoria-woodhull_993/index.html\" title=\"The Coming Woman: A Novel Based on the Life of the Infamous Feminist, Victoria Woodhull\">\\n             The Coming Woman: A ...\\n            </a>\\n           </h3>\\n           <div class=\"product_price\">\\n            <p class=\"price_color\">\\n             Â£17.93\\n            </p>\\n            <p class=\"instock availability\">\\n             <i class=\"icon-ok\">\\n             </i>\\n             In stock\\n            </p>\\n            <form>\\n             <button class=\"btn btn-primary btn-block\" data-loading-text=\"Adding...\" type=\"submit\">\\n              Add to basket\\n             </button>\\n            </form>\\n           </div>\\n          </article>\\n         </li>\\n         <li class=\"col-xs-6 col-sm-4 col-md-3 col-lg-3\">\\n          <article class=\"product_pod\">\\n           <div class=\"image_container\">\\n            <a href=\"the-boys-in-the-boat-nine-americans-and-their-epic-quest-for-gold-at-the-1936-berlin-olympics_992/index.html\">\\n             <img alt=\"The Boys in the Boat: Nine Americans and Their Epic Quest for Gold at the 1936 Berlin Olympics\" class=\"thumbnail\" src=\"../media/cache/66/88/66883b91f6804b2323c8369331cb7dd1.jpg\"/>\\n            </a>\\n           </div>\\n           <p class=\"star-rating Four\">\\n            <i class=\"icon-star\">\\n            </i>\\n            <i class=\"icon-star\">\\n            </i>\\n            <i class=\"icon-star\">\\n            </i>\\n            <i class=\"icon-star\">\\n            </i>\\n            <i class=\"icon-star\">\\n            </i>\\n           </p>\\n           <h3>\\n            <a href=\"the-boys-in-the-boat-nine-americans-and-their-epic-quest-for-gold-at-the-1936-berlin-olympics_992/index.html\" title=\"The Boys in the Boat: Nine Americans and Their Epic Quest for Gold at the 1936 Berlin Olympics\">\\n             The Boys in the ...\\n            </a>\\n           </h3>\\n           <div class=\"product_price\">\\n            <p class=\"price_color\">\\n             Â£22.60\\n            </p>\\n            <p class=\"instock availability\">\\n             <i class=\"icon-ok\">\\n             </i>\\n             In stock\\n            </p>\\n            <form>\\n             <button class=\"btn btn-primary btn-block\" data-loading-text=\"Adding...\" type=\"submit\">\\n              Add to basket\\n             </button>\\n            </form>\\n           </div>\\n          </article>\\n         </li>\\n         <li class=\"col-xs-6 col-sm-4 col-md-3 col-lg-3\">\\n          <article class=\"product_pod\">\\n           <div class=\"image_container\">\\n            <a href=\"the-black-maria_991/index.html\">\\n             <img alt=\"The Black Maria\" class=\"thumbnail\" src=\"../media/cache/58/46/5846057e28022268153beff6d352b06c.jpg\"/>\\n            </a>\\n           </div>\\n           <p class=\"star-rating One\">\\n            <i class=\"icon-star\">\\n            </i>\\n            <i class=\"icon-star\">\\n            </i>\\n            <i class=\"icon-star\">\\n            </i>\\n            <i class=\"icon-star\">\\n            </i>\\n            <i class=\"icon-star\">\\n            </i>\\n           </p>\\n           <h3>\\n            <a href=\"the-black-maria_991/index.html\" title=\"The Black Maria\">\\n             The Black Maria\\n            </a>\\n           </h3>\\n           <div class=\"product_price\">\\n            <p class=\"price_color\">\\n             Â£52.15\\n            </p>\\n            <p class=\"instock availability\">\\n             <i class=\"icon-ok\">\\n             </i>\\n             In stock\\n            </p>\\n            <form>\\n             <button class=\"btn btn-primary btn-block\" data-loading-text=\"Adding...\" type=\"submit\">\\n              Add to basket\\n             </button>\\n            </form>\\n           </div>\\n          </article>\\n         </li>\\n         <li class=\"col-xs-6 col-sm-4 col-md-3 col-lg-3\">\\n          <article class=\"product_pod\">\\n           <div class=\"image_container\">\\n            <a href=\"starving-hearts-triangular-trade-trilogy-1_990/index.html\">\\n             <img alt=\"Starving Hearts (Triangular Trade Trilogy, #1)\" class=\"thumbnail\" src=\"../media/cache/be/f4/bef44da28c98f905a3ebec0b87be8530.jpg\"/>\\n            </a>\\n           </div>\\n           <p class=\"star-rating Two\">\\n            <i class=\"icon-star\">\\n            </i>\\n            <i class=\"icon-star\">\\n            </i>\\n            <i class=\"icon-star\">\\n            </i>\\n            <i class=\"icon-star\">\\n            </i>\\n            <i class=\"icon-star\">\\n            </i>\\n           </p>\\n           <h3>\\n            <a href=\"starving-hearts-triangular-trade-trilogy-1_990/index.html\" title=\"Starving Hearts (Triangular Trade Trilogy, #1)\">\\n             Starving Hearts (Triangular Trade ...\\n            </a>\\n           </h3>\\n           <div class=\"product_price\">\\n            <p class=\"price_color\">\\n             Â£13.99\\n            </p>\\n            <p class=\"instock availability\">\\n             <i class=\"icon-ok\">\\n             </i>\\n             In stock\\n            </p>\\n            <form>\\n             <button class=\"btn btn-primary btn-block\" data-loading-text=\"Adding...\" type=\"submit\">\\n              Add to basket\\n             </button>\\n            </form>\\n           </div>\\n          </article>\\n         </li>\\n         <li class=\"col-xs-6 col-sm-4 col-md-3 col-lg-3\">\\n          <article class=\"product_pod\">\\n           <div class=\"image_container\">\\n            <a href=\"shakespeares-sonnets_989/index.html\">\\n             <img alt=\"Shakespeare\\'s Sonnets\" class=\"thumbnail\" src=\"../media/cache/10/48/1048f63d3b5061cd2f424d20b3f9b666.jpg\"/>\\n            </a>\\n           </div>\\n           <p class=\"star-rating Four\">\\n            <i class=\"icon-star\">\\n            </i>\\n            <i class=\"icon-star\">\\n            </i>\\n            <i class=\"icon-star\">\\n            </i>\\n            <i class=\"icon-star\">\\n            </i>\\n            <i class=\"icon-star\">\\n            </i>\\n           </p>\\n           <h3>\\n            <a href=\"shakespeares-sonnets_989/index.html\" title=\"Shakespeare\\'s Sonnets\">\\n             Shakespeare\\'s Sonnets\\n            </a>\\n           </h3>\\n           <div class=\"product_price\">\\n            <p class=\"price_color\">\\n             Â£20.66\\n            </p>\\n            <p class=\"instock availability\">\\n             <i class=\"icon-ok\">\\n             </i>\\n             In stock\\n            </p>\\n            <form>\\n             <button class=\"btn btn-primary btn-block\" data-loading-text=\"Adding...\" type=\"submit\">\\n              Add to basket\\n             </button>\\n            </form>\\n           </div>\\n          </article>\\n         </li>\\n         <li class=\"col-xs-6 col-sm-4 col-md-3 col-lg-3\">\\n          <article class=\"product_pod\">\\n           <div class=\"image_container\">\\n            <a href=\"set-me-free_988/index.html\">\\n             <img alt=\"Set Me Free\" class=\"thumbnail\" src=\"../media/cache/5b/88/5b88c52633f53cacf162c15f4f823153.jpg\"/>\\n            </a>\\n           </div>\\n           <p class=\"star-rating Five\">\\n            <i class=\"icon-star\">\\n            </i>\\n            <i class=\"icon-star\">\\n            </i>\\n            <i class=\"icon-star\">\\n            </i>\\n            <i class=\"icon-star\">\\n            </i>\\n            <i class=\"icon-star\">\\n            </i>\\n           </p>\\n           <h3>\\n            <a href=\"set-me-free_988/index.html\" title=\"Set Me Free\">\\n             Set Me Free\\n            </a>\\n           </h3>\\n           <div class=\"product_price\">\\n            <p class=\"price_color\">\\n             Â£17.46\\n            </p>\\n            <p class=\"instock availability\">\\n             <i class=\"icon-ok\">\\n             </i>\\n             In stock\\n            </p>\\n            <form>\\n             <button class=\"btn btn-primary btn-block\" data-loading-text=\"Adding...\" type=\"submit\">\\n              Add to basket\\n             </button>\\n            </form>\\n           </div>\\n          </article>\\n         </li>\\n         <li class=\"col-xs-6 col-sm-4 col-md-3 col-lg-3\">\\n          <article class=\"product_pod\">\\n           <div class=\"image_container\">\\n            <a href=\"scott-pilgrims-precious-little-life-scott-pilgrim-1_987/index.html\">\\n             <img alt=\"Scott Pilgrim\\'s Precious Little Life (Scott Pilgrim #1)\" class=\"thumbnail\" src=\"../media/cache/94/b1/94b1b8b244bce9677c2f29ccc890d4d2.jpg\"/>\\n            </a>\\n           </div>\\n           <p class=\"star-rating Five\">\\n            <i class=\"icon-star\">\\n            </i>\\n            <i class=\"icon-star\">\\n            </i>\\n            <i class=\"icon-star\">\\n            </i>\\n            <i class=\"icon-star\">\\n            </i>\\n            <i class=\"icon-star\">\\n            </i>\\n           </p>\\n           <h3>\\n            <a href=\"scott-pilgrims-precious-little-life-scott-pilgrim-1_987/index.html\" title=\"Scott Pilgrim\\'s Precious Little Life (Scott Pilgrim #1)\">\\n             Scott Pilgrim\\'s Precious Little ...\\n            </a>\\n           </h3>\\n           <div class=\"product_price\">\\n            <p class=\"price_color\">\\n             Â£52.29\\n            </p>\\n            <p class=\"instock availability\">\\n             <i class=\"icon-ok\">\\n             </i>\\n             In stock\\n            </p>\\n            <form>\\n             <button class=\"btn btn-primary btn-block\" data-loading-text=\"Adding...\" type=\"submit\">\\n              Add to basket\\n             </button>\\n            </form>\\n           </div>\\n          </article>\\n         </li>\\n         <li class=\"col-xs-6 col-sm-4 col-md-3 col-lg-3\">\\n          <article class=\"product_pod\">\\n           <div class=\"image_container\">\\n            <a href=\"rip-it-up-and-start-again_986/index.html\">\\n             <img alt=\"Rip it Up and Start Again\" class=\"thumbnail\" src=\"../media/cache/81/c4/81c4a973364e17d01f217e1188253d5e.jpg\"/>\\n            </a>\\n           </div>\\n           <p class=\"star-rating Five\">\\n            <i class=\"icon-star\">\\n            </i>\\n            <i class=\"icon-star\">\\n            </i>\\n            <i class=\"icon-star\">\\n            </i>\\n            <i class=\"icon-star\">\\n            </i>\\n            <i class=\"icon-star\">\\n            </i>\\n           </p>\\n           <h3>\\n            <a href=\"rip-it-up-and-start-again_986/index.html\" title=\"Rip it Up and Start Again\">\\n             Rip it Up and ...\\n            </a>\\n           </h3>\\n           <div class=\"product_price\">\\n            <p class=\"price_color\">\\n             Â£35.02\\n            </p>\\n            <p class=\"instock availability\">\\n             <i class=\"icon-ok\">\\n             </i>\\n             In stock\\n            </p>\\n            <form>\\n             <button class=\"btn btn-primary btn-block\" data-loading-text=\"Adding...\" type=\"submit\">\\n              Add to basket\\n             </button>\\n            </form>\\n           </div>\\n          </article>\\n         </li>\\n         <li class=\"col-xs-6 col-sm-4 col-md-3 col-lg-3\">\\n          <article class=\"product_pod\">\\n           <div class=\"image_container\">\\n            <a href=\"our-band-could-be-your-life-scenes-from-the-american-indie-underground-1981-1991_985/index.html\">\\n             <img alt=\"Our Band Could Be Your Life: Scenes from the American Indie Underground, 1981-1991\" class=\"thumbnail\" src=\"../media/cache/54/60/54607fe8945897cdcced0044103b10b6.jpg\"/>\\n            </a>\\n           </div>\\n           <p class=\"star-rating Three\">\\n            <i class=\"icon-star\">\\n            </i>\\n            <i class=\"icon-star\">\\n            </i>\\n            <i class=\"icon-star\">\\n            </i>\\n            <i class=\"icon-star\">\\n            </i>\\n            <i class=\"icon-star\">\\n            </i>\\n           </p>\\n           <h3>\\n            <a href=\"our-band-could-be-your-life-scenes-from-the-american-indie-underground-1981-1991_985/index.html\" title=\"Our Band Could Be Your Life: Scenes from the American Indie Underground, 1981-1991\">\\n             Our Band Could Be ...\\n            </a>\\n           </h3>\\n           <div class=\"product_price\">\\n            <p class=\"price_color\">\\n             Â£57.25\\n            </p>\\n            <p class=\"instock availability\">\\n             <i class=\"icon-ok\">\\n             </i>\\n             In stock\\n            </p>\\n            <form>\\n             <button class=\"btn btn-primary btn-block\" data-loading-text=\"Adding...\" type=\"submit\">\\n              Add to basket\\n             </button>\\n            </form>\\n           </div>\\n          </article>\\n         </li>\\n         <li class=\"col-xs-6 col-sm-4 col-md-3 col-lg-3\">\\n          <article class=\"product_pod\">\\n           <div class=\"image_container\">\\n            <a href=\"olio_984/index.html\">\\n             <img alt=\"Olio\" class=\"thumbnail\" src=\"../media/cache/55/33/553310a7162dfbc2c6d19a84da0df9e1.jpg\"/>\\n            </a>\\n           </div>\\n           <p class=\"star-rating One\">\\n            <i class=\"icon-star\">\\n            </i>\\n            <i class=\"icon-star\">\\n            </i>\\n            <i class=\"icon-star\">\\n            </i>\\n            <i class=\"icon-star\">\\n            </i>\\n            <i class=\"icon-star\">\\n            </i>\\n           </p>\\n           <h3>\\n            <a href=\"olio_984/index.html\" title=\"Olio\">\\n             Olio\\n            </a>\\n           </h3>\\n           <div class=\"product_price\">\\n            <p class=\"price_color\">\\n             Â£23.88\\n            </p>\\n            <p class=\"instock availability\">\\n             <i class=\"icon-ok\">\\n             </i>\\n             In stock\\n            </p>\\n            <form>\\n             <button class=\"btn btn-primary btn-block\" data-loading-text=\"Adding...\" type=\"submit\">\\n              Add to basket\\n             </button>\\n            </form>\\n           </div>\\n          </article>\\n         </li>\\n         <li class=\"col-xs-6 col-sm-4 col-md-3 col-lg-3\">\\n          <article class=\"product_pod\">\\n           <div class=\"image_container\">\\n            <a href=\"mesaerion-the-best-science-fiction-stories-1800-1849_983/index.html\">\\n             <img alt=\"Mesaerion: The Best Science Fiction Stories 1800-1849\" class=\"thumbnail\" src=\"../media/cache/09/a3/09a3aef48557576e1a85ba7efea8ecb7.jpg\"/>\\n            </a>\\n           </div>\\n           <p class=\"star-rating One\">\\n            <i class=\"icon-star\">\\n            </i>\\n            <i class=\"icon-star\">\\n            </i>\\n            <i class=\"icon-star\">\\n            </i>\\n            <i class=\"icon-star\">\\n            </i>\\n            <i class=\"icon-star\">\\n            </i>\\n           </p>\\n           <h3>\\n            <a href=\"mesaerion-the-best-science-fiction-stories-1800-1849_983/index.html\" title=\"Mesaerion: The Best Science Fiction Stories 1800-1849\">\\n             Mesaerion: The Best Science ...\\n            </a>\\n           </h3>\\n           <div class=\"product_price\">\\n            <p class=\"price_color\">\\n             Â£37.59\\n            </p>\\n            <p class=\"instock availability\">\\n             <i class=\"icon-ok\">\\n             </i>\\n             In stock\\n            </p>\\n            <form>\\n             <button class=\"btn btn-primary btn-block\" data-loading-text=\"Adding...\" type=\"submit\">\\n              Add to basket\\n             </button>\\n            </form>\\n           </div>\\n          </article>\\n         </li>\\n         <li class=\"col-xs-6 col-sm-4 col-md-3 col-lg-3\">\\n          <article class=\"product_pod\">\\n           <div class=\"image_container\">\\n            <a href=\"libertarianism-for-beginners_982/index.html\">\\n             <img alt=\"Libertarianism for Beginners\" class=\"thumbnail\" src=\"../media/cache/0b/bc/0bbcd0a6f4bcd81ccb1049a52736406e.jpg\"/>\\n            </a>\\n           </div>\\n           <p class=\"star-rating Two\">\\n            <i class=\"icon-star\">\\n            </i>\\n            <i class=\"icon-star\">\\n            </i>\\n            <i class=\"icon-star\">\\n            </i>\\n            <i class=\"icon-star\">\\n            </i>\\n            <i class=\"icon-star\">\\n            </i>\\n           </p>\\n           <h3>\\n            <a href=\"libertarianism-for-beginners_982/index.html\" title=\"Libertarianism for Beginners\">\\n             Libertarianism for Beginners\\n            </a>\\n           </h3>\\n           <div class=\"product_price\">\\n            <p class=\"price_color\">\\n             Â£51.33\\n            </p>\\n            <p class=\"instock availability\">\\n             <i class=\"icon-ok\">\\n             </i>\\n             In stock\\n            </p>\\n            <form>\\n             <button class=\"btn btn-primary btn-block\" data-loading-text=\"Adding...\" type=\"submit\">\\n              Add to basket\\n             </button>\\n            </form>\\n           </div>\\n          </article>\\n         </li>\\n         <li class=\"col-xs-6 col-sm-4 col-md-3 col-lg-3\">\\n          <article class=\"product_pod\">\\n           <div class=\"image_container\">\\n            <a href=\"its-only-the-himalayas_981/index.html\">\\n             <img alt=\"It\\'s Only the Himalayas\" class=\"thumbnail\" src=\"../media/cache/27/a5/27a53d0bb95bdd88288eaf66c9230d7e.jpg\"/>\\n            </a>\\n           </div>\\n           <p class=\"star-rating Two\">\\n            <i class=\"icon-star\">\\n            </i>\\n            <i class=\"icon-star\">\\n            </i>\\n            <i class=\"icon-star\">\\n            </i>\\n            <i class=\"icon-star\">\\n            </i>\\n            <i class=\"icon-star\">\\n            </i>\\n           </p>\\n           <h3>\\n            <a href=\"its-only-the-himalayas_981/index.html\" title=\"It\\'s Only the Himalayas\">\\n             It\\'s Only the Himalayas\\n            </a>\\n           </h3>\\n           <div class=\"product_price\">\\n            <p class=\"price_color\">\\n             Â£45.17\\n            </p>\\n            <p class=\"instock availability\">\\n             <i class=\"icon-ok\">\\n             </i>\\n             In stock\\n            </p>\\n            <form>\\n             <button class=\"btn btn-primary btn-block\" data-loading-text=\"Adding...\" type=\"submit\">\\n              Add to basket\\n             </button>\\n            </form>\\n           </div>\\n          </article>\\n         </li>\\n        </ol>\\n        <div>\\n         <ul class=\"pager\">\\n          <li class=\"current\">\\n           Page 1 of 50\\n          </li>\\n          <li class=\"next\">\\n           <a href=\"page-2.html\">\\n            next\\n           </a>\\n          </li>\\n         </ul>\\n        </div>\\n       </div>\\n      </section>\\n     </div>\\n    </div>\\n    <!-- /row -->\\n   </div>\\n   <!-- /page_inner -->\\n  </div>\\n  <!-- /container-fluid -->\\n  <footer class=\"footer container-fluid\">\\n  </footer>\\n  <!-- jQuery -->\\n  <script src=\"http://ajax.googleapis.com/ajax/libs/jquery/1.9.1/jquery.min.js\">\\n  </script>\\n  <script>\\n   window.jQuery || document.write(\\'<script src=\"../static/oscar/js/jquery/jquery-1.9.1.min.js\"><\\\\/script>\\')\\n  </script>\\n  <!-- Twitter Bootstrap -->\\n  <script src=\"../static/oscar/js/bootstrap3/bootstrap.min.js\" type=\"text/javascript\">\\n  </script>\\n  <!-- Oscar -->\\n  <script charset=\"utf-8\" src=\"../static/oscar/js/oscar/ui.js\" type=\"text/javascript\">\\n  </script>\\n  <script charset=\"utf-8\" src=\"../static/oscar/js/bootstrap-datetimepicker/bootstrap-datetimepicker.js\" type=\"text/javascript\">\\n  </script>\\n  <script charset=\"utf-8\" src=\"../static/oscar/js/bootstrap-datetimepicker/locales/bootstrap-datetimepicker.all.js\" type=\"text/javascript\">\\n  </script>\\n  <script type=\"text/javascript\">\\n   $(function() {\\n                \\n    \\n    \\n    oscar.init();\\n\\n    oscar.search.init();\\n\\n            });\\n  </script>\\n  <!-- Version: N/A -->\\n </body>\\n</html>\\n'"
      ]
     },
     "execution_count": 32,
     "metadata": {},
     "output_type": "execute_result"
    }
   ],
   "source": [
    "soup.prettify()"
   ]
  },
  {
   "cell_type": "code",
   "execution_count": 77,
   "id": "4afe02ee",
   "metadata": {
    "run_control": {
     "marked": true
    }
   },
   "outputs": [],
   "source": [
    "page= soup.find_all('article',class_= 'product_pod')\n",
    "#  we filter out the extra data which was defined in the soup variable"
   ]
  },
  {
   "cell_type": "code",
   "execution_count": 78,
   "id": "99febc07",
   "metadata": {},
   "outputs": [
    {
     "name": "stdout",
     "output_type": "stream",
     "text": [
      "Three\n",
      "One\n",
      "One\n",
      "Four\n",
      "Five\n",
      "One\n",
      "Four\n",
      "Three\n",
      "Four\n",
      "One\n",
      "Two\n",
      "Four\n",
      "Five\n",
      "Five\n",
      "Five\n",
      "Three\n",
      "One\n",
      "One\n",
      "Two\n",
      "Two\n"
     ]
    }
   ],
   "source": [
    "# checking the ratings for page 1 \n",
    "#  we use for loop to iterate in page in class star rating.\n",
    "for rating in page:\n",
    "    print(rating.find('p',class_= 'star-rating').get('class')[1])"
   ]
  },
  {
   "cell_type": "code",
   "execution_count": 9,
   "id": "3a551bc5",
   "metadata": {},
   "outputs": [
    {
     "name": "stdout",
     "output_type": "stream",
     "text": [
      "In stock\n",
      "In stock\n",
      "In stock\n",
      "In stock\n",
      "In stock\n",
      "In stock\n",
      "In stock\n",
      "In stock\n",
      "In stock\n",
      "In stock\n",
      "In stock\n",
      "In stock\n",
      "In stock\n",
      "In stock\n",
      "In stock\n",
      "In stock\n",
      "In stock\n",
      "In stock\n",
      "In stock\n",
      "In stock\n"
     ]
    }
   ],
   "source": [
    "# for availability in page 1 , we check class instock availibility using for loop  \n",
    "for stock in page:\n",
    "    print(stock.find('p', class_='instock availability').text.strip())\n",
    "\n"
   ]
  },
  {
   "cell_type": "code",
   "execution_count": 10,
   "id": "580cf555",
   "metadata": {},
   "outputs": [
    {
     "name": "stdout",
     "output_type": "stream",
     "text": [
      "£51.77\n",
      "£53.74\n",
      "£50.10\n",
      "£47.82\n",
      "£54.23\n",
      "£22.65\n",
      "£33.34\n",
      "£17.93\n",
      "£22.60\n",
      "£52.15\n",
      "£13.99\n",
      "£20.66\n",
      "£17.46\n",
      "£52.29\n",
      "£35.02\n",
      "£57.25\n",
      "£23.88\n",
      "£37.59\n",
      "£51.33\n",
      "£45.17\n"
     ]
    }
   ],
   "source": [
    "#  price for page 1 using for loop\n",
    "for price in page:\n",
    "    print(price.find('p',class_='price_color').text[1:])"
   ]
  },
  {
   "cell_type": "markdown",
   "id": "5940ba86",
   "metadata": {},
   "source": [
    "\n",
    "# Iterating for page 1\n"
   ]
  },
  {
   "cell_type": "markdown",
   "id": "50d2243e",
   "metadata": {},
   "source": [
    "\n",
    "# checking all the values and using variables to store it in\n",
    "\n",
    "\n",
    "\n",
    "#  ex - title,rating ,price,availibility and printing it to check for page 1"
   ]
  },
  {
   "cell_type": "code",
   "execution_count": 11,
   "id": "c6af8e8f",
   "metadata": {},
   "outputs": [
    {
     "name": "stdout",
     "output_type": "stream",
     "text": [
      "Three 51.77 In stock A Light in the Attic\n",
      "One 53.74 In stock Tipping the Velvet\n",
      "One 50.10 In stock Soumission\n",
      "Four 47.82 In stock Sharp Objects\n",
      "Five 54.23 In stock Sapiens: A Brief History of Humankind\n",
      "One 22.65 In stock The Requiem Red\n",
      "Four 33.34 In stock The Dirty Little Secrets of Getting Your Dream Job\n",
      "Three 17.93 In stock The Coming Woman: A Novel Based on the Life of the Infamous Feminist, Victoria Woodhull\n",
      "Four 22.60 In stock The Boys in the Boat: Nine Americans and Their Epic Quest for Gold at the 1936 Berlin Olympics\n",
      "One 52.15 In stock The Black Maria\n",
      "Two 13.99 In stock Starving Hearts (Triangular Trade Trilogy, #1)\n",
      "Four 20.66 In stock Shakespeare's Sonnets\n",
      "Five 17.46 In stock Set Me Free\n",
      "Five 52.29 In stock Scott Pilgrim's Precious Little Life (Scott Pilgrim #1)\n",
      "Five 35.02 In stock Rip it Up and Start Again\n",
      "Three 57.25 In stock Our Band Could Be Your Life: Scenes from the American Indie Underground, 1981-1991\n",
      "One 23.88 In stock Olio\n",
      "One 37.59 In stock Mesaerion: The Best Science Fiction Stories 1800-1849\n",
      "Two 51.33 In stock Libertarianism for Beginners\n",
      "Two 45.17 In stock It's Only the Himalayas\n"
     ]
    }
   ],
   "source": [
    "# page[0].find('a').get('href')[10:-16]\n",
    "# title found here\n",
    "for book in page:\n",
    "#     print(page.find('a').get('href')[10:-15]) \n",
    "    title= book.find('img').get('alt')\n",
    "    ratings= book.find('p',class_= 'star-rating').get('class')[1]\n",
    "    price = book.find('p',class_='price_color').text[2:]\n",
    "    availability  = book.find('p', class_='instock availability').text.strip()\n",
    "    print(ratings,price,availability,title) \n"
   ]
  },
  {
   "cell_type": "markdown",
   "id": "3a037dd4",
   "metadata": {},
   "source": [
    " "
   ]
  },
  {
   "cell_type": "markdown",
   "id": "2032364f",
   "metadata": {},
   "source": [
    "\"The Upper Code Works Well  for 1 Page\""
   ]
  },
  {
   "cell_type": "markdown",
   "id": "b7a9a96c",
   "metadata": {},
   "source": [
    "## Implementing Scrape Function"
   ]
  },
  {
   "cell_type": "code",
   "execution_count": 80,
   "id": "058817e1",
   "metadata": {},
   "outputs": [],
   "source": [
    "# main code \n",
    "def scrape(url,lst):\n",
    "    \n",
    "    pg =1\n",
    "    soup = bs(r.text,'lxml')\n",
    "#     soup as we implemented earlier at the start of code\n",
    "\n",
    "    page= soup.find_all('article',class_= 'product_pod')\n",
    "#     filtering the page in page variable\n",
    "\n",
    "    for book in page: \n",
    "        title= book.find('img').get('alt')\n",
    "        ratings= book.find('p',class_= 'star-rating').get('class')[1]\n",
    "        price = book.find('p',class_='price_color').text[2:]\n",
    "        availability  = book.find('p', class_='instock availability').text.strip()\n",
    "#  iterated for page using book \n",
    "# title and other variables contain the data for 20 items and then iterate for next page\n",
    "        lst.append({'title': title,\n",
    "                'Price':price,\n",
    "                'Ratings': ratings,\n",
    "                'Availability':availability\n",
    "               }# all the details in page 1\n",
    "              )\n",
    "#     appending title and other variables in list(lst) to store the data \n",
    "\n",
    "while (pg < 51):\n",
    "    scrape(url,lst)\n",
    "    pg+=1\n",
    "    data = pd.DataFrame(lst)\n",
    "# we have 50 pages so we iterage for 50 pages here \n",
    "# and as soon as 51 hits it will stop and list will have all the elements in data \n"
   ]
  },
  {
   "cell_type": "code",
   "execution_count": 81,
   "id": "c1ed842d",
   "metadata": {},
   "outputs": [
    {
     "data": {
      "text/plain": [
       "title           2000\n",
       "Price           2000\n",
       "Ratings         2000\n",
       "Availability    2000\n",
       "dtype: int64"
      ]
     },
     "execution_count": 81,
     "metadata": {},
     "output_type": "execute_result"
    }
   ],
   "source": [
    "data.count()\n",
    "# checking all the values of data"
   ]
  },
  {
   "cell_type": "code",
   "execution_count": 82,
   "id": "8ca3dfba",
   "metadata": {},
   "outputs": [
    {
     "name": "stdout",
     "output_type": "stream",
     "text": [
      "<class 'pandas.core.frame.DataFrame'>\n",
      "RangeIndex: 2000 entries, 0 to 1999\n",
      "Data columns (total 4 columns):\n",
      " #   Column        Non-Null Count  Dtype \n",
      "---  ------        --------------  ----- \n",
      " 0   title         2000 non-null   object\n",
      " 1   Price         2000 non-null   object\n",
      " 2   Ratings       2000 non-null   object\n",
      " 3   Availability  2000 non-null   object\n",
      "dtypes: object(4)\n",
      "memory usage: 62.6+ KB\n"
     ]
    }
   ],
   "source": [
    "data.info()"
   ]
  },
  {
   "cell_type": "code",
   "execution_count": 84,
   "id": "2e0514d0",
   "metadata": {},
   "outputs": [
    {
     "data": {
      "text/html": [
       "<div>\n",
       "<style scoped>\n",
       "    .dataframe tbody tr th:only-of-type {\n",
       "        vertical-align: middle;\n",
       "    }\n",
       "\n",
       "    .dataframe tbody tr th {\n",
       "        vertical-align: top;\n",
       "    }\n",
       "\n",
       "    .dataframe thead th {\n",
       "        text-align: right;\n",
       "    }\n",
       "</style>\n",
       "<table border=\"1\" class=\"dataframe\">\n",
       "  <thead>\n",
       "    <tr style=\"text-align: right;\">\n",
       "      <th></th>\n",
       "      <th>title</th>\n",
       "      <th>Price</th>\n",
       "      <th>Ratings</th>\n",
       "      <th>Availability</th>\n",
       "    </tr>\n",
       "  </thead>\n",
       "  <tbody>\n",
       "    <tr>\n",
       "      <th>0</th>\n",
       "      <td>A Light in the Attic</td>\n",
       "      <td>51.77</td>\n",
       "      <td>3</td>\n",
       "      <td>In stock</td>\n",
       "    </tr>\n",
       "    <tr>\n",
       "      <th>1</th>\n",
       "      <td>Tipping the Velvet</td>\n",
       "      <td>53.74</td>\n",
       "      <td>1</td>\n",
       "      <td>In stock</td>\n",
       "    </tr>\n",
       "    <tr>\n",
       "      <th>2</th>\n",
       "      <td>Soumission</td>\n",
       "      <td>50.10</td>\n",
       "      <td>1</td>\n",
       "      <td>In stock</td>\n",
       "    </tr>\n",
       "    <tr>\n",
       "      <th>3</th>\n",
       "      <td>Sharp Objects</td>\n",
       "      <td>47.82</td>\n",
       "      <td>4</td>\n",
       "      <td>In stock</td>\n",
       "    </tr>\n",
       "    <tr>\n",
       "      <th>4</th>\n",
       "      <td>Sapiens: A Brief History of Humankind</td>\n",
       "      <td>54.23</td>\n",
       "      <td>5</td>\n",
       "      <td>In stock</td>\n",
       "    </tr>\n",
       "    <tr>\n",
       "      <th>...</th>\n",
       "      <td>...</td>\n",
       "      <td>...</td>\n",
       "      <td>...</td>\n",
       "      <td>...</td>\n",
       "    </tr>\n",
       "    <tr>\n",
       "      <th>1995</th>\n",
       "      <td>Our Band Could Be Your Life: Scenes from the A...</td>\n",
       "      <td>57.25</td>\n",
       "      <td>3</td>\n",
       "      <td>In stock</td>\n",
       "    </tr>\n",
       "    <tr>\n",
       "      <th>1996</th>\n",
       "      <td>Olio</td>\n",
       "      <td>23.88</td>\n",
       "      <td>1</td>\n",
       "      <td>In stock</td>\n",
       "    </tr>\n",
       "    <tr>\n",
       "      <th>1997</th>\n",
       "      <td>Mesaerion: The Best Science Fiction Stories 18...</td>\n",
       "      <td>37.59</td>\n",
       "      <td>1</td>\n",
       "      <td>In stock</td>\n",
       "    </tr>\n",
       "    <tr>\n",
       "      <th>1998</th>\n",
       "      <td>Libertarianism for Beginners</td>\n",
       "      <td>51.33</td>\n",
       "      <td>2</td>\n",
       "      <td>In stock</td>\n",
       "    </tr>\n",
       "    <tr>\n",
       "      <th>1999</th>\n",
       "      <td>It's Only the Himalayas</td>\n",
       "      <td>45.17</td>\n",
       "      <td>2</td>\n",
       "      <td>In stock</td>\n",
       "    </tr>\n",
       "  </tbody>\n",
       "</table>\n",
       "<p>2000 rows × 4 columns</p>\n",
       "</div>"
      ],
      "text/plain": [
       "                                                  title  Price  Ratings  \\\n",
       "0                                  A Light in the Attic  51.77        3   \n",
       "1                                    Tipping the Velvet  53.74        1   \n",
       "2                                            Soumission  50.10        1   \n",
       "3                                         Sharp Objects  47.82        4   \n",
       "4                 Sapiens: A Brief History of Humankind  54.23        5   \n",
       "...                                                 ...    ...      ...   \n",
       "1995  Our Band Could Be Your Life: Scenes from the A...  57.25        3   \n",
       "1996                                               Olio  23.88        1   \n",
       "1997  Mesaerion: The Best Science Fiction Stories 18...  37.59        1   \n",
       "1998                       Libertarianism for Beginners  51.33        2   \n",
       "1999                            It's Only the Himalayas  45.17        2   \n",
       "\n",
       "     Availability  \n",
       "0        In stock  \n",
       "1        In stock  \n",
       "2        In stock  \n",
       "3        In stock  \n",
       "4        In stock  \n",
       "...           ...  \n",
       "1995     In stock  \n",
       "1996     In stock  \n",
       "1997     In stock  \n",
       "1998     In stock  \n",
       "1999     In stock  \n",
       "\n",
       "[2000 rows x 4 columns]"
      ]
     },
     "execution_count": 84,
     "metadata": {},
     "output_type": "execute_result"
    }
   ],
   "source": [
    "data['Ratings']= data['Ratings'].replace(['One','Two',\"Three\",\"Four\",\"Five\"],[1,2,3,4,5])\n",
    "# converting ratings into numerical data\n",
    "# which is originally categorical data\n",
    "data\n",
    "# checking data\n",
    "# all the values are as it should be"
   ]
  },
  {
   "cell_type": "markdown",
   "id": "d260f16d",
   "metadata": {},
   "source": [
    "# Creating Database and Storing Values"
   ]
  },
  {
   "cell_type": "code",
   "execution_count": 85,
   "id": "80a8ae3a",
   "metadata": {},
   "outputs": [],
   "source": [
    "# books_schema = \"\"\"\n",
    "\n",
    "#     CREATE TABLE books_scraped( \n",
    "#         title     TEXT, \n",
    "#         Price     REAL, \n",
    "#         Rate      INTEGER,\n",
    "#         in_stock  TEXT,     \n",
    "#     )\n",
    "# \"\"\"\n",
    "#  create table query"
   ]
  },
  {
   "cell_type": "code",
   "execution_count": 25,
   "id": "940b0c4f",
   "metadata": {},
   "outputs": [],
   "source": [
    "# db = mysql.connector.connect(host='localhost',user= 'root',database= 'scrape_db',password= \"Kaushik.9871\")"
   ]
  },
  {
   "cell_type": "markdown",
   "id": "cf5e1c3f",
   "metadata": {},
   "source": [
    "# CREATING A CONNECTION WITH DATABASE"
   ]
  },
  {
   "cell_type": "code",
   "execution_count": 88,
   "id": "7749252e",
   "metadata": {},
   "outputs": [],
   "source": [
    "conn = sqlite3.connect('scrape_db')\n",
    "# creating a connector here with sqlite with dat"
   ]
  },
  {
   "cell_type": "code",
   "execution_count": 89,
   "id": "3f73341c",
   "metadata": {},
   "outputs": [
    {
     "ename": "OperationalError",
     "evalue": "table books already exists",
     "output_type": "error",
     "traceback": [
      "\u001b[1;31m---------------------------------------------------------------------------\u001b[0m",
      "\u001b[1;31mOperationalError\u001b[0m                          Traceback (most recent call last)",
      "\u001b[1;32m<ipython-input-89-d03925c1d418>\u001b[0m in \u001b[0;36m<module>\u001b[1;34m\u001b[0m\n\u001b[0;32m      1\u001b[0m \u001b[0mc\u001b[0m\u001b[1;33m=\u001b[0m \u001b[0mconn\u001b[0m\u001b[1;33m.\u001b[0m\u001b[0mcursor\u001b[0m\u001b[1;33m(\u001b[0m\u001b[1;33m)\u001b[0m\u001b[1;33m\u001b[0m\u001b[1;33m\u001b[0m\u001b[0m\n\u001b[0;32m      2\u001b[0m \u001b[1;31m# cursor is created here\u001b[0m\u001b[1;33m\u001b[0m\u001b[1;33m\u001b[0m\u001b[1;33m\u001b[0m\u001b[0m\n\u001b[1;32m----> 3\u001b[1;33m \u001b[0mc\u001b[0m\u001b[1;33m.\u001b[0m\u001b[0mexecute\u001b[0m\u001b[1;33m(\u001b[0m\u001b[1;34m\"\"\"CREATE TABLE books(title TEXT, Price REAL , RATINGS REAL,Availability TEXT)\"\"\"\u001b[0m\u001b[1;33m)\u001b[0m\u001b[1;33m\u001b[0m\u001b[1;33m\u001b[0m\u001b[0m\n\u001b[0m\u001b[0;32m      4\u001b[0m \u001b[1;31m#\u001b[0m\u001b[1;33m\u001b[0m\u001b[1;33m\u001b[0m\u001b[1;33m\u001b[0m\u001b[0m\n",
      "\u001b[1;31mOperationalError\u001b[0m: table books already exists"
     ]
    }
   ],
   "source": [
    "c= conn.cursor()\n",
    "# cursor is created here \n",
    "# cursor allows user to  name or access stored data \n",
    "c.execute(\"\"\"CREATE TABLE books(title TEXT, Price REAL , RATINGS REAL,Availability TEXT)\"\"\")\n",
    "# executes sql statements "
   ]
  },
  {
   "cell_type": "code",
   "execution_count": 67,
   "id": "420fd812",
   "metadata": {},
   "outputs": [],
   "source": [
    "conn= create_engine('sqlite:///scrape_db.sqlite', echo=False)\n",
    "# The SQLAlchemy engine creates a common interface to the database to execute SQL statements.\n",
    "#  we transfer data from jupyter to sql using engine"
   ]
  },
  {
   "cell_type": "code",
   "execution_count": 69,
   "id": "5f188119",
   "metadata": {},
   "outputs": [
    {
     "name": "stdout",
     "output_type": "stream",
     "text": [
      "Engine(sqlite:///scrape_db.sqlite)\n"
     ]
    }
   ],
   "source": [
    "print(conn)\n",
    "# connection succeded"
   ]
  },
  {
   "cell_type": "code",
   "execution_count": 90,
   "id": "0891cb21",
   "metadata": {},
   "outputs": [],
   "source": [
    "# data to sql which is used to transfer data as it is"
   ]
  },
  {
   "cell_type": "code",
   "execution_count": 70,
   "id": "27ee2857",
   "metadata": {},
   "outputs": [],
   "source": [
    "data.to_sql('books', con=conn, if_exists='append', index=False)"
   ]
  },
  {
   "cell_type": "code",
   "execution_count": 71,
   "id": "25f4dafc",
   "metadata": {},
   "outputs": [],
   "source": [
    "query = \"\"\"\n",
    "    SELECT * FROM books\n",
    "\"\"\""
   ]
  },
  {
   "cell_type": "code",
   "execution_count": null,
   "id": "2cf8e76e",
   "metadata": {},
   "outputs": [],
   "source": [
    "# we use query to read for sql table"
   ]
  },
  {
   "cell_type": "code",
   "execution_count": 72,
   "id": "e1f23e2f",
   "metadata": {},
   "outputs": [],
   "source": [
    "df = pd.read_sql_query(query, conn)\n",
    "# here we stored sql query  data for reading sql table "
   ]
  },
  {
   "cell_type": "code",
   "execution_count": 93,
   "id": "a23b6f58",
   "metadata": {},
   "outputs": [
    {
     "data": {
      "text/html": [
       "<div>\n",
       "<style scoped>\n",
       "    .dataframe tbody tr th:only-of-type {\n",
       "        vertical-align: middle;\n",
       "    }\n",
       "\n",
       "    .dataframe tbody tr th {\n",
       "        vertical-align: top;\n",
       "    }\n",
       "\n",
       "    .dataframe thead th {\n",
       "        text-align: right;\n",
       "    }\n",
       "</style>\n",
       "<table border=\"1\" class=\"dataframe\">\n",
       "  <thead>\n",
       "    <tr style=\"text-align: right;\">\n",
       "      <th></th>\n",
       "      <th>title</th>\n",
       "      <th>Price</th>\n",
       "      <th>Ratings</th>\n",
       "      <th>Availability</th>\n",
       "    </tr>\n",
       "  </thead>\n",
       "  <tbody>\n",
       "    <tr>\n",
       "      <th>0</th>\n",
       "      <td>A Light in the Attic</td>\n",
       "      <td>51.77</td>\n",
       "      <td>3</td>\n",
       "      <td>In stock</td>\n",
       "    </tr>\n",
       "    <tr>\n",
       "      <th>1</th>\n",
       "      <td>Tipping the Velvet</td>\n",
       "      <td>53.74</td>\n",
       "      <td>1</td>\n",
       "      <td>In stock</td>\n",
       "    </tr>\n",
       "    <tr>\n",
       "      <th>2</th>\n",
       "      <td>Soumission</td>\n",
       "      <td>50.10</td>\n",
       "      <td>1</td>\n",
       "      <td>In stock</td>\n",
       "    </tr>\n",
       "    <tr>\n",
       "      <th>3</th>\n",
       "      <td>Sharp Objects</td>\n",
       "      <td>47.82</td>\n",
       "      <td>4</td>\n",
       "      <td>In stock</td>\n",
       "    </tr>\n",
       "    <tr>\n",
       "      <th>4</th>\n",
       "      <td>Sapiens: A Brief History of Humankind</td>\n",
       "      <td>54.23</td>\n",
       "      <td>5</td>\n",
       "      <td>In stock</td>\n",
       "    </tr>\n",
       "    <tr>\n",
       "      <th>...</th>\n",
       "      <td>...</td>\n",
       "      <td>...</td>\n",
       "      <td>...</td>\n",
       "      <td>...</td>\n",
       "    </tr>\n",
       "    <tr>\n",
       "      <th>995</th>\n",
       "      <td>Our Band Could Be Your Life: Scenes from the A...</td>\n",
       "      <td>57.25</td>\n",
       "      <td>3</td>\n",
       "      <td>In stock</td>\n",
       "    </tr>\n",
       "    <tr>\n",
       "      <th>996</th>\n",
       "      <td>Olio</td>\n",
       "      <td>23.88</td>\n",
       "      <td>1</td>\n",
       "      <td>In stock</td>\n",
       "    </tr>\n",
       "    <tr>\n",
       "      <th>997</th>\n",
       "      <td>Mesaerion: The Best Science Fiction Stories 18...</td>\n",
       "      <td>37.59</td>\n",
       "      <td>1</td>\n",
       "      <td>In stock</td>\n",
       "    </tr>\n",
       "    <tr>\n",
       "      <th>998</th>\n",
       "      <td>Libertarianism for Beginners</td>\n",
       "      <td>51.33</td>\n",
       "      <td>2</td>\n",
       "      <td>In stock</td>\n",
       "    </tr>\n",
       "    <tr>\n",
       "      <th>999</th>\n",
       "      <td>It's Only the Himalayas</td>\n",
       "      <td>45.17</td>\n",
       "      <td>2</td>\n",
       "      <td>In stock</td>\n",
       "    </tr>\n",
       "  </tbody>\n",
       "</table>\n",
       "<p>1000 rows × 4 columns</p>\n",
       "</div>"
      ],
      "text/plain": [
       "                                                 title  Price  Ratings  \\\n",
       "0                                 A Light in the Attic  51.77        3   \n",
       "1                                   Tipping the Velvet  53.74        1   \n",
       "2                                           Soumission  50.10        1   \n",
       "3                                        Sharp Objects  47.82        4   \n",
       "4                Sapiens: A Brief History of Humankind  54.23        5   \n",
       "..                                                 ...    ...      ...   \n",
       "995  Our Band Could Be Your Life: Scenes from the A...  57.25        3   \n",
       "996                                               Olio  23.88        1   \n",
       "997  Mesaerion: The Best Science Fiction Stories 18...  37.59        1   \n",
       "998                       Libertarianism for Beginners  51.33        2   \n",
       "999                            It's Only the Himalayas  45.17        2   \n",
       "\n",
       "    Availability  \n",
       "0       In stock  \n",
       "1       In stock  \n",
       "2       In stock  \n",
       "3       In stock  \n",
       "4       In stock  \n",
       "..           ...  \n",
       "995     In stock  \n",
       "996     In stock  \n",
       "997     In stock  \n",
       "998     In stock  \n",
       "999     In stock  \n",
       "\n",
       "[1000 rows x 4 columns]"
      ]
     },
     "execution_count": 93,
     "metadata": {},
     "output_type": "execute_result"
    }
   ],
   "source": [
    "df"
   ]
  },
  {
   "cell_type": "markdown",
   "id": "8fb45341",
   "metadata": {},
   "source": [
    "# Thank you!"
   ]
  }
 ],
 "metadata": {
  "kernelspec": {
   "display_name": "Python 3",
   "language": "python",
   "name": "python3"
  },
  "language_info": {
   "codemirror_mode": {
    "name": "ipython",
    "version": 3
   },
   "file_extension": ".py",
   "mimetype": "text/x-python",
   "name": "python",
   "nbconvert_exporter": "python",
   "pygments_lexer": "ipython3",
   "version": "3.8.8"
  },
  "latex_envs": {
   "LaTeX_envs_menu_present": true,
   "autoclose": false,
   "autocomplete": true,
   "bibliofile": "biblio.bib",
   "cite_by": "apalike",
   "current_citInitial": 1,
   "eqLabelWithNumbers": true,
   "eqNumInitial": 1,
   "hotkeys": {
    "equation": "Ctrl-E",
    "itemize": "Ctrl-I"
   },
   "labels_anchors": false,
   "latex_user_defs": false,
   "report_style_numbering": false,
   "user_envs_cfg": false
  },
  "varInspector": {
   "cols": {
    "lenName": 16,
    "lenType": 16,
    "lenVar": 40
   },
   "kernels_config": {
    "python": {
     "delete_cmd_postfix": "",
     "delete_cmd_prefix": "del ",
     "library": "var_list.py",
     "varRefreshCmd": "print(var_dic_list())"
    },
    "r": {
     "delete_cmd_postfix": ") ",
     "delete_cmd_prefix": "rm(",
     "library": "var_list.r",
     "varRefreshCmd": "cat(var_dic_list()) "
    }
   },
   "types_to_exclude": [
    "module",
    "function",
    "builtin_function_or_method",
    "instance",
    "_Feature"
   ],
   "window_display": false
  }
 },
 "nbformat": 4,
 "nbformat_minor": 5
}
